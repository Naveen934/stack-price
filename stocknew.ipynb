{
  "nbformat": 4,
  "nbformat_minor": 0,
  "metadata": {
    "colab": {
      "provenance": [],
      "collapsed_sections": [
        "U0T7E9KLPWZi",
        "1wh4NrFU6jUB",
        "CRNWzceTwdIX"
      ],
      "toc_visible": true
    },
    "kernelspec": {
      "name": "python3",
      "display_name": "Python 3"
    },
    "language_info": {
      "name": "python"
    }
  },
  "cells": [
    {
      "cell_type": "code",
      "source": [
        "import pandas as pd\n",
        "import numpy as np\n",
        "import yfinance as yf\n",
        "import matplotlib.pyplot as plt\n",
        "from sklearn.linear_model import LinearRegression"
      ],
      "metadata": {
        "id": "p65bEQwLl9ov"
      },
      "execution_count": null,
      "outputs": []
    },
    {
      "cell_type": "markdown",
      "source": [
        "#Stack Data"
      ],
      "metadata": {
        "id": "U0T7E9KLPWZi"
      }
    },
    {
      "cell_type": "code",
      "execution_count": null,
      "metadata": {
        "id": "MN6QOqw-WevX"
      },
      "outputs": [],
      "source": [
        "class Stock:\n",
        "    def __init__(self, stack_name, start=\"2021-01-01\", end=\"2024-01-14\"):\n",
        "        self.stack_name = stack_name\n",
        "        self.start = start\n",
        "        self.end = end\n",
        "        self.data = yf.download(self.stack_name, self.start, self.end).reset_index()\n",
        "        self.maximum=self.data.High.max()\n",
        "        self.minimum=self.data.Low.min()\n",
        "        self.lr = LinearRegression()\n",
        "\n",
        "    def stock_chart(self):\n",
        "        plt.plot(self.data['Close'])\n",
        "        plt.title(f\"{self.stack_name} Stock chart\")\n",
        "        plt.xlabel(\"Date\")\n",
        "        plt.ylabel(\"Price (INR)\")\n",
        "        plt.show()\n",
        "\n",
        "    def stock_performance(self):\n",
        "        x = np.array(self.data.index).reshape(-1, 1)\n",
        "        y = np.array(self.data['Close'])\n",
        "        print(\"Linear score is:\", self.lr.fit(x, y).score(x, y))\n",
        "        plt.scatter(x, y)\n",
        "        plt.plot(x, self.lr.predict(x))\n",
        "        plt.show()"
      ]
    },
    {
      "cell_type": "code",
      "source": [
        "stock_instance = Stock(stack_name=\"AAPL\")\n",
        "stock_instance.stock_chart()\n",
        "stock_instance.stock_performance()"
      ],
      "metadata": {
        "id": "RpvFRQioy6Hm"
      },
      "execution_count": null,
      "outputs": []
    },
    {
      "cell_type": "code",
      "source": [
        "nifty = Stock(\"^NSEI \")  # nifty50\n",
        "print(\"Nifty 50 maximum value is: \",nifty.maximum)\n",
        "print(nifty.minimum)\n",
        "nifty.stock_chart()\n",
        "nifty.stock_performance()"
      ],
      "metadata": {
        "id": "dXd73k97bTyi"
      },
      "execution_count": null,
      "outputs": []
    },
    {
      "cell_type": "code",
      "source": [
        "itc= Stock(\"ITC.NS\",start=\"2023-01-01\")\n",
        "print(\"ITC Minimum value is:\",itc.minimum)\n",
        "print(itc.maximum)"
      ],
      "metadata": {
        "colab": {
          "base_uri": "https://localhost:8080/"
        },
        "id": "RHOu8q2TzVgO",
        "outputId": "ed446c4a-8ea6-47d9-d57d-a4c395adb517"
      },
      "execution_count": null,
      "outputs": [
        {
          "output_type": "stream",
          "name": "stdout",
          "text": [
            "\r[*********************100%%**********************]  1 of 1 completed\n",
            "ITC Minimum value is: 326.0\n",
            "499.70001220703125\n"
          ]
        }
      ]
    },
    {
      "cell_type": "markdown",
      "source": [
        "#LSTM"
      ],
      "metadata": {
        "id": "1wh4NrFU6jUB"
      }
    },
    {
      "cell_type": "code",
      "source": [
        "# Importing libraries\n",
        "import pandas as pd\n",
        "import numpy as np\n",
        "import matplotlib.pyplot as plt\n",
        "from sklearn.preprocessing import MinMaxScaler\n",
        "from tensorflow.keras.models import Sequential\n",
        "from tensorflow.keras.layers import Dense, LSTM\n",
        "import yfinance as yf"
      ],
      "metadata": {
        "id": "pytffe-Y6TbP"
      },
      "execution_count": null,
      "outputs": []
    },
    {
      "cell_type": "code",
      "source": [
        "# Load INFY stock data\n",
        "infy_data = yf.download('INFY', start=\"2021-01-01\", end=\"2024-01-14\")\n",
        "df = infy_data['Close'].values.reshape(-1, 1)"
      ],
      "metadata": {
        "colab": {
          "base_uri": "https://localhost:8080/"
        },
        "id": "8O2Yyv3A6s8T",
        "outputId": "b0896829-ea75-41da-fd16-67b42226902e"
      },
      "execution_count": null,
      "outputs": [
        {
          "output_type": "stream",
          "name": "stdout",
          "text": [
            "\r[*********************100%%**********************]  1 of 1 completed\n"
          ]
        }
      ]
    },
    {
      "cell_type": "code",
      "source": [
        "# Normalize the data\n",
        "scaler = MinMaxScaler(feature_range=(0, 1))\n",
        "df = scaler.fit_transform(df)"
      ],
      "metadata": {
        "id": "5CcQY-C660X3"
      },
      "execution_count": null,
      "outputs": []
    },
    {
      "cell_type": "code",
      "source": [
        "# Create function to create dataset for LSTM\n",
        "def create_dataset(dataset, time_step=1):\n",
        "    dataX, dataY = [], []\n",
        "    for i in range(len(dataset)-time_step-1):\n",
        "        a = dataset[i:(i+time_step), 0]\n",
        "        dataX.append(a)\n",
        "        dataY.append(dataset[i + time_step, 0])\n",
        "    return np.array(dataX), np.array(dataY)"
      ],
      "metadata": {
        "id": "ecq-bJGH6459"
      },
      "execution_count": null,
      "outputs": []
    },
    {
      "cell_type": "code",
      "source": [
        "\n",
        "# Reshape data for LSTM\n",
        "time_step = 100\n",
        "X, y = create_dataset(df, time_step)\n"
      ],
      "metadata": {
        "id": "DiA2ey2k6_Ky"
      },
      "execution_count": null,
      "outputs": []
    },
    {
      "cell_type": "code",
      "source": [
        "\n",
        "# Reshape input to be [samples, time steps, features] which is required for LSTM\n",
        "X = X.reshape(X.shape[0], X.shape[1], 1)\n"
      ],
      "metadata": {
        "id": "P4wFXR1o7DZa"
      },
      "execution_count": null,
      "outputs": []
    },
    {
      "cell_type": "code",
      "source": [
        "\n",
        "# Build the LSTM model\n",
        "model = Sequential()\n",
        "model.add(LSTM(100, input_shape=(X.shape[1], 1), return_sequences=True))\n",
        "model.add(LSTM(100, return_sequences=True))\n",
        "model.add(LSTM(50))\n",
        "model.add(Dense(1))\n",
        "model.compile(loss='mean_squared_error', optimizer='adam')\n"
      ],
      "metadata": {
        "id": "uS7vOjg57HyU"
      },
      "execution_count": null,
      "outputs": []
    },
    {
      "cell_type": "code",
      "source": [
        "\n",
        "# Train the model\n",
        "model.fit(X, y, epochs=10, batch_size=64, verbose=1)\n"
      ],
      "metadata": {
        "colab": {
          "base_uri": "https://localhost:8080/"
        },
        "id": "-2b3hAl_7LMa",
        "outputId": "b75da9e3-4522-4128-89ac-6f7350a44990"
      },
      "execution_count": null,
      "outputs": [
        {
          "output_type": "stream",
          "name": "stdout",
          "text": [
            "Epoch 1/10\n",
            "11/11 [==============================] - 7s 203ms/step - loss: 0.0594\n",
            "Epoch 2/10\n",
            "11/11 [==============================] - 2s 205ms/step - loss: 0.0148\n",
            "Epoch 3/10\n",
            "11/11 [==============================] - 3s 239ms/step - loss: 0.0080\n",
            "Epoch 4/10\n",
            "11/11 [==============================] - 2s 204ms/step - loss: 0.0064\n",
            "Epoch 5/10\n",
            "11/11 [==============================] - 2s 200ms/step - loss: 0.0058\n",
            "Epoch 6/10\n",
            "11/11 [==============================] - 2s 198ms/step - loss: 0.0058\n",
            "Epoch 7/10\n",
            "11/11 [==============================] - 2s 229ms/step - loss: 0.0053\n",
            "Epoch 8/10\n",
            "11/11 [==============================] - 3s 214ms/step - loss: 0.0048\n",
            "Epoch 9/10\n",
            "11/11 [==============================] - 2s 201ms/step - loss: 0.0048\n",
            "Epoch 10/10\n",
            "11/11 [==============================] - 2s 201ms/step - loss: 0.0043\n"
          ]
        },
        {
          "output_type": "execute_result",
          "data": {
            "text/plain": [
              "<keras.src.callbacks.History at 0x7872c548fd90>"
            ]
          },
          "metadata": {},
          "execution_count": 181
        }
      ]
    },
    {
      "cell_type": "code",
      "source": [
        "# Predict the next 10 days\n",
        "future_days = 10\n",
        "x_input = df[-time_step:]\n",
        "x_input.shape"
      ],
      "metadata": {
        "colab": {
          "base_uri": "https://localhost:8080/"
        },
        "id": "qedzr-sy7Qei",
        "outputId": "13daf4dd-e5b6-444d-af0a-27b75127e293"
      },
      "execution_count": null,
      "outputs": [
        {
          "output_type": "execute_result",
          "data": {
            "text/plain": [
              "(100, 1)"
            ]
          },
          "metadata": {},
          "execution_count": 195
        }
      ]
    },
    {
      "cell_type": "code",
      "source": [
        "x_input = scaler.transform(x_input)\n",
        "x_input = x_input.reshape(1, time_step, 1)"
      ],
      "metadata": {
        "id": "hHWO6Dd58aBQ"
      },
      "execution_count": null,
      "outputs": []
    },
    {
      "cell_type": "code",
      "source": [
        "predicted_values = []\n",
        "for i in range(future_days):\n",
        "    yhat = model.predict(x_input, verbose=0)\n",
        "    predicted_values.append(yhat[0, 0])\n",
        "    x_input = np.append(x_input[:, 1:, :], [[yhat[0, 0]]], axis=1)"
      ],
      "metadata": {
        "colab": {
          "base_uri": "https://localhost:8080/",
          "height": 287
        },
        "id": "d2_wHYEs7TUc",
        "outputId": "6bbd7602-164e-4c7d-9fd2-9f90fd630303"
      },
      "execution_count": null,
      "outputs": [
        {
          "output_type": "error",
          "ename": "ValueError",
          "evalue": "all the input arrays must have same number of dimensions, but the array at index 0 has 3 dimension(s) and the array at index 1 has 2 dimension(s)",
          "traceback": [
            "\u001b[0;31m---------------------------------------------------------------------------\u001b[0m",
            "\u001b[0;31mValueError\u001b[0m                                Traceback (most recent call last)",
            "\u001b[0;32m<ipython-input-197-8e899cb1ce92>\u001b[0m in \u001b[0;36m<cell line: 2>\u001b[0;34m()\u001b[0m\n\u001b[1;32m      3\u001b[0m     \u001b[0myhat\u001b[0m \u001b[0;34m=\u001b[0m \u001b[0mmodel\u001b[0m\u001b[0;34m.\u001b[0m\u001b[0mpredict\u001b[0m\u001b[0;34m(\u001b[0m\u001b[0mx_input\u001b[0m\u001b[0;34m,\u001b[0m \u001b[0mverbose\u001b[0m\u001b[0;34m=\u001b[0m\u001b[0;36m0\u001b[0m\u001b[0;34m)\u001b[0m\u001b[0;34m\u001b[0m\u001b[0;34m\u001b[0m\u001b[0m\n\u001b[1;32m      4\u001b[0m     \u001b[0mpredicted_values\u001b[0m\u001b[0;34m.\u001b[0m\u001b[0mappend\u001b[0m\u001b[0;34m(\u001b[0m\u001b[0myhat\u001b[0m\u001b[0;34m[\u001b[0m\u001b[0;36m0\u001b[0m\u001b[0;34m,\u001b[0m \u001b[0;36m0\u001b[0m\u001b[0;34m]\u001b[0m\u001b[0;34m)\u001b[0m\u001b[0;34m\u001b[0m\u001b[0;34m\u001b[0m\u001b[0m\n\u001b[0;32m----> 5\u001b[0;31m     \u001b[0mx_input\u001b[0m \u001b[0;34m=\u001b[0m \u001b[0mnp\u001b[0m\u001b[0;34m.\u001b[0m\u001b[0mappend\u001b[0m\u001b[0;34m(\u001b[0m\u001b[0mx_input\u001b[0m\u001b[0;34m[\u001b[0m\u001b[0;34m:\u001b[0m\u001b[0;34m,\u001b[0m \u001b[0;36m1\u001b[0m\u001b[0;34m:\u001b[0m\u001b[0;34m,\u001b[0m \u001b[0;34m:\u001b[0m\u001b[0;34m]\u001b[0m\u001b[0;34m,\u001b[0m \u001b[0;34m[\u001b[0m\u001b[0;34m[\u001b[0m\u001b[0myhat\u001b[0m\u001b[0;34m[\u001b[0m\u001b[0;36m0\u001b[0m\u001b[0;34m,\u001b[0m \u001b[0;36m0\u001b[0m\u001b[0;34m]\u001b[0m\u001b[0;34m]\u001b[0m\u001b[0;34m]\u001b[0m\u001b[0;34m,\u001b[0m \u001b[0maxis\u001b[0m\u001b[0;34m=\u001b[0m\u001b[0;36m1\u001b[0m\u001b[0;34m)\u001b[0m\u001b[0;34m\u001b[0m\u001b[0;34m\u001b[0m\u001b[0m\n\u001b[0m",
            "\u001b[0;32m/usr/local/lib/python3.10/dist-packages/numpy/core/overrides.py\u001b[0m in \u001b[0;36mappend\u001b[0;34m(*args, **kwargs)\u001b[0m\n",
            "\u001b[0;32m/usr/local/lib/python3.10/dist-packages/numpy/lib/function_base.py\u001b[0m in \u001b[0;36mappend\u001b[0;34m(arr, values, axis)\u001b[0m\n\u001b[1;32m   5442\u001b[0m         \u001b[0mvalues\u001b[0m \u001b[0;34m=\u001b[0m \u001b[0mravel\u001b[0m\u001b[0;34m(\u001b[0m\u001b[0mvalues\u001b[0m\u001b[0;34m)\u001b[0m\u001b[0;34m\u001b[0m\u001b[0;34m\u001b[0m\u001b[0m\n\u001b[1;32m   5443\u001b[0m         \u001b[0maxis\u001b[0m \u001b[0;34m=\u001b[0m \u001b[0marr\u001b[0m\u001b[0;34m.\u001b[0m\u001b[0mndim\u001b[0m\u001b[0;34m-\u001b[0m\u001b[0;36m1\u001b[0m\u001b[0;34m\u001b[0m\u001b[0;34m\u001b[0m\u001b[0m\n\u001b[0;32m-> 5444\u001b[0;31m     \u001b[0;32mreturn\u001b[0m \u001b[0mconcatenate\u001b[0m\u001b[0;34m(\u001b[0m\u001b[0;34m(\u001b[0m\u001b[0marr\u001b[0m\u001b[0;34m,\u001b[0m \u001b[0mvalues\u001b[0m\u001b[0;34m)\u001b[0m\u001b[0;34m,\u001b[0m \u001b[0maxis\u001b[0m\u001b[0;34m=\u001b[0m\u001b[0maxis\u001b[0m\u001b[0;34m)\u001b[0m\u001b[0;34m\u001b[0m\u001b[0;34m\u001b[0m\u001b[0m\n\u001b[0m\u001b[1;32m   5445\u001b[0m \u001b[0;34m\u001b[0m\u001b[0m\n\u001b[1;32m   5446\u001b[0m \u001b[0;34m\u001b[0m\u001b[0m\n",
            "\u001b[0;32m/usr/local/lib/python3.10/dist-packages/numpy/core/overrides.py\u001b[0m in \u001b[0;36mconcatenate\u001b[0;34m(*args, **kwargs)\u001b[0m\n",
            "\u001b[0;31mValueError\u001b[0m: all the input arrays must have same number of dimensions, but the array at index 0 has 3 dimension(s) and the array at index 1 has 2 dimension(s)"
          ]
        }
      ]
    },
    {
      "cell_type": "code",
      "source": [
        "# Inverse transform the predicted values\n",
        "predicted_values = scaler.inverse_transform(np.array(predicted_values).reshape(-1, 1))"
      ],
      "metadata": {
        "id": "0ZzX0Knn7VEm"
      },
      "execution_count": null,
      "outputs": []
    },
    {
      "cell_type": "code",
      "source": [
        "# Plotting\n",
        "day_new = np.arange(len(df), len(df) + future_days)\n",
        "day_pred = np.arange(len(df), len(df) + future_days)"
      ],
      "metadata": {
        "id": "02gype1M7Wkw"
      },
      "execution_count": null,
      "outputs": []
    },
    {
      "cell_type": "code",
      "source": [
        "plt.plot(df, label='Actual Data')\n",
        "plt.plot(day_pred, predicted_values, label='Predicted Data')\n",
        "plt.legend()\n",
        "plt.show()\n"
      ],
      "metadata": {
        "id": "pWDz3pvl7YCh"
      },
      "execution_count": null,
      "outputs": []
    },
    {
      "cell_type": "markdown",
      "source": [
        "#Get data from stock related news use NLP and predict"
      ],
      "metadata": {
        "id": "CRNWzceTwdIX"
      }
    },
    {
      "cell_type": "code",
      "source": [],
      "metadata": {
        "id": "LzwmCNRbw4oh"
      },
      "execution_count": null,
      "outputs": []
    },
    {
      "cell_type": "code",
      "source": [],
      "metadata": {
        "id": "9nLJo8i4w5XG"
      },
      "execution_count": null,
      "outputs": []
    }
  ]
}